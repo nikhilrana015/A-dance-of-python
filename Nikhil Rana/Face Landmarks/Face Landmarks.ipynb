{
 "cells": [
  {
   "cell_type": "code",
   "execution_count": 3,
   "metadata": {},
   "outputs": [
    {
     "ename": "ModuleNotFoundError",
     "evalue": "No module named 'dlib'",
     "output_type": "error",
     "traceback": [
      "\u001b[1;31m---------------------------------------------------------------------------\u001b[0m",
      "\u001b[1;31mModuleNotFoundError\u001b[0m                       Traceback (most recent call last)",
      "\u001b[1;32m<ipython-input-3-ef8888374914>\u001b[0m in \u001b[0;36m<module>\u001b[1;34m\u001b[0m\n\u001b[0;32m      1\u001b[0m \u001b[1;32mimport\u001b[0m \u001b[0mnumpy\u001b[0m \u001b[1;32mas\u001b[0m \u001b[0mnp\u001b[0m\u001b[1;33m\u001b[0m\u001b[1;33m\u001b[0m\u001b[0m\n\u001b[1;32m----> 2\u001b[1;33m \u001b[1;32mimport\u001b[0m \u001b[0mdlib\u001b[0m \u001b[1;32mas\u001b[0m \u001b[0mdb\u001b[0m\u001b[1;33m\u001b[0m\u001b[1;33m\u001b[0m\u001b[0m\n\u001b[0m\u001b[0;32m      3\u001b[0m \u001b[1;32mimport\u001b[0m \u001b[0mcv2\u001b[0m \u001b[1;32mas\u001b[0m \u001b[0mcv\u001b[0m\u001b[1;33m\u001b[0m\u001b[1;33m\u001b[0m\u001b[0m\n",
      "\u001b[1;31mModuleNotFoundError\u001b[0m: No module named 'dlib'"
     ]
    }
   ],
   "source": [
    "import numpy as np\n",
    "import dlib as db\n",
    "import cv2 as cv"
   ]
  },
  {
   "cell_type": "code",
   "execution_count": 2,
   "metadata": {},
   "outputs": [
    {
     "name": "stderr",
     "output_type": "stream",
     "text": [
      "UsageError: Line magic function `%` not found.\n"
     ]
    }
   ],
   "source": [
    "% conda activate opencv-env"
   ]
  },
  {
   "cell_type": "markdown",
   "metadata": {},
   "source": [
    "# Code"
   ]
  },
  {
   "cell_type": "code",
   "execution_count": 49,
   "metadata": {},
   "outputs": [],
   "source": [
    "cap = cv.VideoCapture(0)\n",
    "face_detector =  db.get_frontal_face_detector()\n",
    "landmark_predict = db.shape_predictor(\"shape_predictor_68_face_landmarks.dat\")\n",
    "count = 0\n",
    "\n",
    "while True:\n",
    "    \n",
    "    _, frame = cap.read()\n",
    "    gray = cv.cvtColor(frame,cv.COLOR_BGR2GRAY)\n",
    "    faces = face_detector(gray)\n",
    "    \n",
    "    for coord in faces:\n",
    "        # capturing the top left point\n",
    "#         x1 =coord.left()                 \n",
    "#         y1 = coord.top()             \n",
    "#         # capturing the bottom down point\n",
    "#         x2 = coord.right()\n",
    "#         y2 = coord.bottom()\n",
    "        \n",
    "        landmarks =  landmark_predict(gray,coord) \n",
    "        \n",
    "        for points in range(0,68):\n",
    "            x = landmarks.part(points).x\n",
    "            y = landmarks.part(points).y\n",
    "            cv.circle(frame,(x,y),2,(0,0,255),-1)\n",
    "        \n",
    "        if( abs(int(landmarks.part(58).y) - int(landmarks.part(52).y) ) >60 ):\n",
    "                count+=1\n",
    "                break\n",
    "    \n",
    "    \n",
    "    cv.putText(frame,\"Count: {} \".format(str(count)) , (50,50),cv.FONT_ITALIC,2,(0,255,0),2,cv.LINE_AA)    \n",
    "        \n",
    "    \n",
    "#         print(landmarks)\n",
    "#     print(faces)\n",
    "    \n",
    "    cv.imshow(\"Frame\",frame)\n",
    "    \n",
    "    if cv.waitKey(1) & 0xFF == ord('q'):\n",
    "        break;\n",
    "        \n",
    "\n",
    "        \n",
    "cap.release()\n",
    "cv.destroyAllWindows()"
   ]
  },
  {
   "cell_type": "code",
   "execution_count": null,
   "metadata": {},
   "outputs": [],
   "source": []
  },
  {
   "cell_type": "code",
   "execution_count": null,
   "metadata": {},
   "outputs": [],
   "source": []
  },
  {
   "cell_type": "code",
   "execution_count": null,
   "metadata": {},
   "outputs": [],
   "source": []
  },
  {
   "cell_type": "code",
   "execution_count": null,
   "metadata": {},
   "outputs": [],
   "source": []
  }
 ],
 "metadata": {
  "kernelspec": {
   "display_name": "Python 3",
   "language": "python",
   "name": "python3"
  },
  "language_info": {
   "codemirror_mode": {
    "name": "ipython",
    "version": 3
   },
   "file_extension": ".py",
   "mimetype": "text/x-python",
   "name": "python",
   "nbconvert_exporter": "python",
   "pygments_lexer": "ipython3",
   "version": "3.7.4"
  }
 },
 "nbformat": 4,
 "nbformat_minor": 2
}
